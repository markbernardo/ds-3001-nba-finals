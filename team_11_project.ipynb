{
  "nbformat": 4,
  "nbformat_minor": 0,
  "metadata": {
    "colab": {
      "name": "team_11_project.ipynb",
      "provenance": [],
      "collapsed_sections": [],
      "include_colab_link": true
    },
    "kernelspec": {
      "name": "python3",
      "display_name": "Python 3"
    }
  },
  "cells": [
    {
      "cell_type": "markdown",
      "metadata": {
        "id": "view-in-github",
        "colab_type": "text"
      },
      "source": [
        "<a href=\"https://colab.research.google.com/github/markbernardo/ds-3001-nba-finals/blob/master/team_11_project.ipynb\" target=\"_parent\"><img src=\"https://colab.research.google.com/assets/colab-badge.svg\" alt=\"Open In Colab\"/></a>"
      ]
    },
    {
      "cell_type": "markdown",
      "metadata": {
        "id": "uo_Yf8rkn-Qy",
        "colab_type": "text"
      },
      "source": [
        "# Required Packages and Google Drive Mount:"
      ]
    },
    {
      "cell_type": "code",
      "metadata": {
        "id": "uL2EKKj7kCGR",
        "colab_type": "code",
        "outputId": "f9babbd2-b8d2-4511-827b-89729601bb12",
        "colab": {
          "base_uri": "https://localhost:8080/",
          "height": 230
        }
      },
      "source": [
        "#install packages\n",
        "!pip install bs4 pandas requests numpy sklearn matplotlib"
      ],
      "execution_count": 0,
      "outputs": [
        {
          "output_type": "stream",
          "text": [
            "Requirement already satisfied: bs4 in /usr/local/lib/python3.6/dist-packages (0.0.1)\n",
            "Requirement already satisfied: pandas in /usr/local/lib/python3.6/dist-packages (1.0.3)\n",
            "Requirement already satisfied: requests in /usr/local/lib/python3.6/dist-packages (2.23.0)\n",
            "Requirement already satisfied: beautifulsoup4 in /usr/local/lib/python3.6/dist-packages (from bs4) (4.6.3)\n",
            "Requirement already satisfied: python-dateutil>=2.6.1 in /usr/local/lib/python3.6/dist-packages (from pandas) (2.8.1)\n",
            "Requirement already satisfied: numpy>=1.13.3 in /usr/local/lib/python3.6/dist-packages (from pandas) (1.18.4)\n",
            "Requirement already satisfied: pytz>=2017.2 in /usr/local/lib/python3.6/dist-packages (from pandas) (2018.9)\n",
            "Requirement already satisfied: certifi>=2017.4.17 in /usr/local/lib/python3.6/dist-packages (from requests) (2020.4.5.1)\n",
            "Requirement already satisfied: idna<3,>=2.5 in /usr/local/lib/python3.6/dist-packages (from requests) (2.9)\n",
            "Requirement already satisfied: chardet<4,>=3.0.2 in /usr/local/lib/python3.6/dist-packages (from requests) (3.0.4)\n",
            "Requirement already satisfied: urllib3!=1.25.0,!=1.25.1,<1.26,>=1.21.1 in /usr/local/lib/python3.6/dist-packages (from requests) (1.24.3)\n",
            "Requirement already satisfied: six>=1.5 in /usr/local/lib/python3.6/dist-packages (from python-dateutil>=2.6.1->pandas) (1.12.0)\n"
          ],
          "name": "stdout"
        }
      ]
    },
    {
      "cell_type": "code",
      "metadata": {
        "id": "M80I65mt0ax2",
        "colab_type": "code",
        "outputId": "1860a9b5-4bdf-4a61-88b3-733c409e0d7d",
        "colab": {
          "base_uri": "https://localhost:8080/",
          "height": 125
        }
      },
      "source": [
        "from google.colab import drive\n",
        "drive.mount('/content/drive')"
      ],
      "execution_count": 0,
      "outputs": [
        {
          "output_type": "stream",
          "text": [
            "Go to this URL in a browser: https://accounts.google.com/o/oauth2/auth?client_id=947318989803-6bn6qk8qdgf4n4g3pfee6491hc0brc4i.apps.googleusercontent.com&redirect_uri=urn%3aietf%3awg%3aoauth%3a2.0%3aoob&response_type=code&scope=email%20https%3a%2f%2fwww.googleapis.com%2fauth%2fdocs.test%20https%3a%2f%2fwww.googleapis.com%2fauth%2fdrive%20https%3a%2f%2fwww.googleapis.com%2fauth%2fdrive.photos.readonly%20https%3a%2f%2fwww.googleapis.com%2fauth%2fpeopleapi.readonly\n",
            "\n",
            "Enter your authorization code:\n",
            "··········\n",
            "Mounted at /content/drive\n"
          ],
          "name": "stdout"
        }
      ]
    },
    {
      "cell_type": "markdown",
      "metadata": {
        "id": "UJg0AojNV9ks",
        "colab_type": "text"
      },
      "source": [
        "# Web Scraper:\n"
      ]
    },
    {
      "cell_type": "code",
      "metadata": {
        "id": "rlSiBzVKV7Ks",
        "colab_type": "code",
        "colab": {}
      },
      "source": [
        "\n",
        "from bs4 import BeautifulSoup\n",
        "import pandas as pd\n",
        "import requests\n",
        "import numpy as np\n",
        "import re\n",
        "#function default passes list of all 30 teams\n",
        "teams =[\n",
        "'ATL','BRK','BOS','CHO','CHI','CLE',\n",
        "'DAL','DEN','DET','GSW','HOU','IND',\n",
        "'LAC','LAL','MEM','MIA','MIL','MIN',\n",
        "'NOP','NYK','OKC','ORL','PHI','PHO',\n",
        "'POR','SAC','SAS','TOR','UTA','WAS']\n",
        "\n",
        "teamdict = {\n",
        "'ATL':1001,'BRK':1002,'BOS':1003,'CHO':1004,'CHI':1005,'CLE':1006,\n",
        "'DAL':1007,'DEN':1008,'DET':1009,'GSW':1010,'HOU':1011,'IND':1012,\n",
        "'LAC':1013,'LAL':1014,'MEM':1015,'MIA':1016,'MIL':1017,'MIN':1018,\n",
        "'NOP':1019,'NYK':1020,'OKC':1021,'ORL':1022,'PHI':1023,'PHO':1024,\n",
        "'POR':1025,'SAC':1026,'SAS':1027,'TOR':1028,'UTA':1029,'WAS':1030}\n",
        "\n",
        "\n",
        "#give year and team list, returns all teams logs\n",
        "def get_logs(years, teams = teams):\n",
        "    for team in teams:\n",
        "      log = pd.DataFrame([])\n",
        "      for year in years:\n",
        "        url = 'http://www.basketball-reference.com/teams/{team}/{year}/gamelog'.format(team=team,year=str(year))\n",
        "        req = requests.get(url)\n",
        "        soup = BeautifulSoup(req.content, 'html.parser')\n",
        "\n",
        "        # find all headers\n",
        "        headers = [th.getText() for th in \n",
        "                   soup.findAll('tr',class_=lambda x: x !=\"over_header\")[0].findAll('th')]\n",
        "        # ignore br rank\n",
        "        headers = headers[1:]\n",
        "        # create rows\n",
        "        rows = soup.findAll('tr', class_=lambda x: x !=\"thead\" and x != \" over_header center\")[2:]\n",
        "        games = [[td.getText() for td in rows[i].findAll('td')]\n",
        "                    for i in range(len(rows))]\n",
        "\n",
        "        #dataframe\n",
        "        if log.empty:\n",
        "          log = pd.DataFrame(games, columns = headers)\n",
        "        else:\n",
        "          log = pd.concat([log, pd.DataFrame(games, columns = headers)]) \n",
        "      \n",
        "      log['Date'].replace('', np.nan, inplace=True)\n",
        "      log['W/L'] = log['W/L'].replace('L', int(0))\n",
        "      log['W/L'] = log['W/L'].replace('W', int(1))\n",
        "      log.iloc[ : , 2 ] = log.iloc[ : , 2 ].replace('@',int(1))\n",
        "      log.iloc[ : , 2 ] = log.iloc[ : , 2 ].replace('',int(0))\n",
        "      log.dropna(subset=['Date'], inplace=True)\n",
        "      for tm in teamdict.keys():\n",
        "        log['Opp'] = log['Opp'].replace(tm, teamdict[tm])\n",
        "\n",
        "\n",
        "      log.rename(columns = {'\\xa0':'Home?'}, inplace = True)\n",
        "      cols = []\n",
        "      count = 1\n",
        "      for column in log.columns:\n",
        "        if column == 'Home?':\n",
        "            cols.append(f'Home?_{count}')\n",
        "            count+=1\n",
        "            continue\n",
        "        cols.append(column)\n",
        "      log.columns = cols\n",
        "\n",
        "      day = pd.to_datetime(log['Date'])\n",
        "      month = pd.to_datetime(log['Date'])\n",
        "      year = pd.to_datetime(log['Date'])\n",
        "\n",
        "      day = day.dt.day\n",
        "      month = month.dt.month\n",
        "      year = year.dt.year\n",
        "\n",
        "      log['Day'] = day\n",
        "      log['Month'] = month\n",
        "      log['Year'] = year\n",
        "      \n",
        "      del log['Date']\n",
        "      del log['Home?_2']\n",
        "      print(list(log.columns))\n",
        "\n",
        "      log.to_csv('{team}_{years}_log.csv'.format(team=team, years=str(years[0])), index = False)\n"
      ],
      "execution_count": 0,
      "outputs": []
    },
    {
      "cell_type": "markdown",
      "metadata": {
        "id": "mYEk0_mxXOXz",
        "colab_type": "text"
      },
      "source": [
        "# Tests\n"
      ]
    },
    {
      "cell_type": "code",
      "metadata": {
        "id": "WHJTfCT0XUz7",
        "colab_type": "code",
        "outputId": "f8889e0e-3614-4906-e63d-a54ecd789ca1",
        "colab": {
          "base_uri": "https://localhost:8080/",
          "height": 747
        }
      },
      "source": [
        "#Game Logs\n",
        "years = [2020]\n",
        "get_logs(years)"
      ],
      "execution_count": 0,
      "outputs": [
        {
          "output_type": "stream",
          "text": [
            "/usr/local/lib/python3.6/dist-packages/pandas/core/generic.py:6746: SettingWithCopyWarning: \n",
            "A value is trying to be set on a copy of a slice from a DataFrame\n",
            "\n",
            "See the caveats in the documentation: https://pandas.pydata.org/pandas-docs/stable/user_guide/indexing.html#returning-a-view-versus-a-copy\n",
            "  self._update_inplace(new_data)\n"
          ],
          "name": "stderr"
        },
        {
          "output_type": "stream",
          "text": [
            "['G', 'Home?_1', 'Opp', 'W/L', 'Tm', 'Opp', 'FG', 'FGA', 'FG%', '3P', '3PA', '3P%', 'FT', 'FTA', 'FT%', 'ORB', 'TRB', 'AST', 'STL', 'BLK', 'TOV', 'PF', 'FG', 'FGA', 'FG%', '3P', '3PA', '3P%', 'FT', 'FTA', 'FT%', 'ORB', 'TRB', 'AST', 'STL', 'BLK', 'TOV', 'PF', 'Day', 'Month', 'Year']\n"
          ],
          "name": "stdout"
        },
        {
          "output_type": "stream",
          "text": [
            "/usr/local/lib/python3.6/dist-packages/pandas/core/generic.py:6746: SettingWithCopyWarning: \n",
            "A value is trying to be set on a copy of a slice from a DataFrame\n",
            "\n",
            "See the caveats in the documentation: https://pandas.pydata.org/pandas-docs/stable/user_guide/indexing.html#returning-a-view-versus-a-copy\n",
            "  self._update_inplace(new_data)\n"
          ],
          "name": "stderr"
        },
        {
          "output_type": "stream",
          "text": [
            "['G', 'Home?_1', 'Opp', 'W/L', 'Tm', 'Opp', 'FG', 'FGA', 'FG%', '3P', '3PA', '3P%', 'FT', 'FTA', 'FT%', 'ORB', 'TRB', 'AST', 'STL', 'BLK', 'TOV', 'PF', 'FG', 'FGA', 'FG%', '3P', '3PA', '3P%', 'FT', 'FTA', 'FT%', 'ORB', 'TRB', 'AST', 'STL', 'BLK', 'TOV', 'PF', 'Day', 'Month', 'Year']\n",
            "['G', 'Home?_1', 'Opp', 'W/L', 'Tm', 'Opp', 'FG', 'FGA', 'FG%', '3P', '3PA', '3P%', 'FT', 'FTA', 'FT%', 'ORB', 'TRB', 'AST', 'STL', 'BLK', 'TOV', 'PF', 'FG', 'FGA', 'FG%', '3P', '3PA', '3P%', 'FT', 'FTA', 'FT%', 'ORB', 'TRB', 'AST', 'STL', 'BLK', 'TOV', 'PF', 'Day', 'Month', 'Year']\n",
            "['G', 'Home?_1', 'Opp', 'W/L', 'Tm', 'Opp', 'FG', 'FGA', 'FG%', '3P', '3PA', '3P%', 'FT', 'FTA', 'FT%', 'ORB', 'TRB', 'AST', 'STL', 'BLK', 'TOV', 'PF', 'FG', 'FGA', 'FG%', '3P', '3PA', '3P%', 'FT', 'FTA', 'FT%', 'ORB', 'TRB', 'AST', 'STL', 'BLK', 'TOV', 'PF', 'Day', 'Month', 'Year']\n",
            "['G', 'Home?_1', 'Opp', 'W/L', 'Tm', 'Opp', 'FG', 'FGA', 'FG%', '3P', '3PA', '3P%', 'FT', 'FTA', 'FT%', 'ORB', 'TRB', 'AST', 'STL', 'BLK', 'TOV', 'PF', 'FG', 'FGA', 'FG%', '3P', '3PA', '3P%', 'FT', 'FTA', 'FT%', 'ORB', 'TRB', 'AST', 'STL', 'BLK', 'TOV', 'PF', 'Day', 'Month', 'Year']\n",
            "['G', 'Home?_1', 'Opp', 'W/L', 'Tm', 'Opp', 'FG', 'FGA', 'FG%', '3P', '3PA', '3P%', 'FT', 'FTA', 'FT%', 'ORB', 'TRB', 'AST', 'STL', 'BLK', 'TOV', 'PF', 'FG', 'FGA', 'FG%', '3P', '3PA', '3P%', 'FT', 'FTA', 'FT%', 'ORB', 'TRB', 'AST', 'STL', 'BLK', 'TOV', 'PF', 'Day', 'Month', 'Year']\n",
            "['G', 'Home?_1', 'Opp', 'W/L', 'Tm', 'Opp', 'FG', 'FGA', 'FG%', '3P', '3PA', '3P%', 'FT', 'FTA', 'FT%', 'ORB', 'TRB', 'AST', 'STL', 'BLK', 'TOV', 'PF', 'FG', 'FGA', 'FG%', '3P', '3PA', '3P%', 'FT', 'FTA', 'FT%', 'ORB', 'TRB', 'AST', 'STL', 'BLK', 'TOV', 'PF', 'Day', 'Month', 'Year']\n",
            "['G', 'Home?_1', 'Opp', 'W/L', 'Tm', 'Opp', 'FG', 'FGA', 'FG%', '3P', '3PA', '3P%', 'FT', 'FTA', 'FT%', 'ORB', 'TRB', 'AST', 'STL', 'BLK', 'TOV', 'PF', 'FG', 'FGA', 'FG%', '3P', '3PA', '3P%', 'FT', 'FTA', 'FT%', 'ORB', 'TRB', 'AST', 'STL', 'BLK', 'TOV', 'PF', 'Day', 'Month', 'Year']\n",
            "['G', 'Home?_1', 'Opp', 'W/L', 'Tm', 'Opp', 'FG', 'FGA', 'FG%', '3P', '3PA', '3P%', 'FT', 'FTA', 'FT%', 'ORB', 'TRB', 'AST', 'STL', 'BLK', 'TOV', 'PF', 'FG', 'FGA', 'FG%', '3P', '3PA', '3P%', 'FT', 'FTA', 'FT%', 'ORB', 'TRB', 'AST', 'STL', 'BLK', 'TOV', 'PF', 'Day', 'Month', 'Year']\n",
            "['G', 'Home?_1', 'Opp', 'W/L', 'Tm', 'Opp', 'FG', 'FGA', 'FG%', '3P', '3PA', '3P%', 'FT', 'FTA', 'FT%', 'ORB', 'TRB', 'AST', 'STL', 'BLK', 'TOV', 'PF', 'FG', 'FGA', 'FG%', '3P', '3PA', '3P%', 'FT', 'FTA', 'FT%', 'ORB', 'TRB', 'AST', 'STL', 'BLK', 'TOV', 'PF', 'Day', 'Month', 'Year']\n",
            "['G', 'Home?_1', 'Opp', 'W/L', 'Tm', 'Opp', 'FG', 'FGA', 'FG%', '3P', '3PA', '3P%', 'FT', 'FTA', 'FT%', 'ORB', 'TRB', 'AST', 'STL', 'BLK', 'TOV', 'PF', 'FG', 'FGA', 'FG%', '3P', '3PA', '3P%', 'FT', 'FTA', 'FT%', 'ORB', 'TRB', 'AST', 'STL', 'BLK', 'TOV', 'PF', 'Day', 'Month', 'Year']\n",
            "['G', 'Home?_1', 'Opp', 'W/L', 'Tm', 'Opp', 'FG', 'FGA', 'FG%', '3P', '3PA', '3P%', 'FT', 'FTA', 'FT%', 'ORB', 'TRB', 'AST', 'STL', 'BLK', 'TOV', 'PF', 'FG', 'FGA', 'FG%', '3P', '3PA', '3P%', 'FT', 'FTA', 'FT%', 'ORB', 'TRB', 'AST', 'STL', 'BLK', 'TOV', 'PF', 'Day', 'Month', 'Year']\n",
            "['G', 'Home?_1', 'Opp', 'W/L', 'Tm', 'Opp', 'FG', 'FGA', 'FG%', '3P', '3PA', '3P%', 'FT', 'FTA', 'FT%', 'ORB', 'TRB', 'AST', 'STL', 'BLK', 'TOV', 'PF', 'FG', 'FGA', 'FG%', '3P', '3PA', '3P%', 'FT', 'FTA', 'FT%', 'ORB', 'TRB', 'AST', 'STL', 'BLK', 'TOV', 'PF', 'Day', 'Month', 'Year']\n",
            "['G', 'Home?_1', 'Opp', 'W/L', 'Tm', 'Opp', 'FG', 'FGA', 'FG%', '3P', '3PA', '3P%', 'FT', 'FTA', 'FT%', 'ORB', 'TRB', 'AST', 'STL', 'BLK', 'TOV', 'PF', 'FG', 'FGA', 'FG%', '3P', '3PA', '3P%', 'FT', 'FTA', 'FT%', 'ORB', 'TRB', 'AST', 'STL', 'BLK', 'TOV', 'PF', 'Day', 'Month', 'Year']\n",
            "['G', 'Home?_1', 'Opp', 'W/L', 'Tm', 'Opp', 'FG', 'FGA', 'FG%', '3P', '3PA', '3P%', 'FT', 'FTA', 'FT%', 'ORB', 'TRB', 'AST', 'STL', 'BLK', 'TOV', 'PF', 'FG', 'FGA', 'FG%', '3P', '3PA', '3P%', 'FT', 'FTA', 'FT%', 'ORB', 'TRB', 'AST', 'STL', 'BLK', 'TOV', 'PF', 'Day', 'Month', 'Year']\n",
            "['G', 'Home?_1', 'Opp', 'W/L', 'Tm', 'Opp', 'FG', 'FGA', 'FG%', '3P', '3PA', '3P%', 'FT', 'FTA', 'FT%', 'ORB', 'TRB', 'AST', 'STL', 'BLK', 'TOV', 'PF', 'FG', 'FGA', 'FG%', '3P', '3PA', '3P%', 'FT', 'FTA', 'FT%', 'ORB', 'TRB', 'AST', 'STL', 'BLK', 'TOV', 'PF', 'Day', 'Month', 'Year']\n",
            "['G', 'Home?_1', 'Opp', 'W/L', 'Tm', 'Opp', 'FG', 'FGA', 'FG%', '3P', '3PA', '3P%', 'FT', 'FTA', 'FT%', 'ORB', 'TRB', 'AST', 'STL', 'BLK', 'TOV', 'PF', 'FG', 'FGA', 'FG%', '3P', '3PA', '3P%', 'FT', 'FTA', 'FT%', 'ORB', 'TRB', 'AST', 'STL', 'BLK', 'TOV', 'PF', 'Day', 'Month', 'Year']\n",
            "['G', 'Home?_1', 'Opp', 'W/L', 'Tm', 'Opp', 'FG', 'FGA', 'FG%', '3P', '3PA', '3P%', 'FT', 'FTA', 'FT%', 'ORB', 'TRB', 'AST', 'STL', 'BLK', 'TOV', 'PF', 'FG', 'FGA', 'FG%', '3P', '3PA', '3P%', 'FT', 'FTA', 'FT%', 'ORB', 'TRB', 'AST', 'STL', 'BLK', 'TOV', 'PF', 'Day', 'Month', 'Year']\n",
            "['G', 'Home?_1', 'Opp', 'W/L', 'Tm', 'Opp', 'FG', 'FGA', 'FG%', '3P', '3PA', '3P%', 'FT', 'FTA', 'FT%', 'ORB', 'TRB', 'AST', 'STL', 'BLK', 'TOV', 'PF', 'FG', 'FGA', 'FG%', '3P', '3PA', '3P%', 'FT', 'FTA', 'FT%', 'ORB', 'TRB', 'AST', 'STL', 'BLK', 'TOV', 'PF', 'Day', 'Month', 'Year']\n",
            "['G', 'Home?_1', 'Opp', 'W/L', 'Tm', 'Opp', 'FG', 'FGA', 'FG%', '3P', '3PA', '3P%', 'FT', 'FTA', 'FT%', 'ORB', 'TRB', 'AST', 'STL', 'BLK', 'TOV', 'PF', 'FG', 'FGA', 'FG%', '3P', '3PA', '3P%', 'FT', 'FTA', 'FT%', 'ORB', 'TRB', 'AST', 'STL', 'BLK', 'TOV', 'PF', 'Day', 'Month', 'Year']\n",
            "['G', 'Home?_1', 'Opp', 'W/L', 'Tm', 'Opp', 'FG', 'FGA', 'FG%', '3P', '3PA', '3P%', 'FT', 'FTA', 'FT%', 'ORB', 'TRB', 'AST', 'STL', 'BLK', 'TOV', 'PF', 'FG', 'FGA', 'FG%', '3P', '3PA', '3P%', 'FT', 'FTA', 'FT%', 'ORB', 'TRB', 'AST', 'STL', 'BLK', 'TOV', 'PF', 'Day', 'Month', 'Year']\n",
            "['G', 'Home?_1', 'Opp', 'W/L', 'Tm', 'Opp', 'FG', 'FGA', 'FG%', '3P', '3PA', '3P%', 'FT', 'FTA', 'FT%', 'ORB', 'TRB', 'AST', 'STL', 'BLK', 'TOV', 'PF', 'FG', 'FGA', 'FG%', '3P', '3PA', '3P%', 'FT', 'FTA', 'FT%', 'ORB', 'TRB', 'AST', 'STL', 'BLK', 'TOV', 'PF', 'Day', 'Month', 'Year']\n",
            "['G', 'Home?_1', 'Opp', 'W/L', 'Tm', 'Opp', 'FG', 'FGA', 'FG%', '3P', '3PA', '3P%', 'FT', 'FTA', 'FT%', 'ORB', 'TRB', 'AST', 'STL', 'BLK', 'TOV', 'PF', 'FG', 'FGA', 'FG%', '3P', '3PA', '3P%', 'FT', 'FTA', 'FT%', 'ORB', 'TRB', 'AST', 'STL', 'BLK', 'TOV', 'PF', 'Day', 'Month', 'Year']\n",
            "['G', 'Home?_1', 'Opp', 'W/L', 'Tm', 'Opp', 'FG', 'FGA', 'FG%', '3P', '3PA', '3P%', 'FT', 'FTA', 'FT%', 'ORB', 'TRB', 'AST', 'STL', 'BLK', 'TOV', 'PF', 'FG', 'FGA', 'FG%', '3P', '3PA', '3P%', 'FT', 'FTA', 'FT%', 'ORB', 'TRB', 'AST', 'STL', 'BLK', 'TOV', 'PF', 'Day', 'Month', 'Year']\n",
            "['G', 'Home?_1', 'Opp', 'W/L', 'Tm', 'Opp', 'FG', 'FGA', 'FG%', '3P', '3PA', '3P%', 'FT', 'FTA', 'FT%', 'ORB', 'TRB', 'AST', 'STL', 'BLK', 'TOV', 'PF', 'FG', 'FGA', 'FG%', '3P', '3PA', '3P%', 'FT', 'FTA', 'FT%', 'ORB', 'TRB', 'AST', 'STL', 'BLK', 'TOV', 'PF', 'Day', 'Month', 'Year']\n",
            "['G', 'Home?_1', 'Opp', 'W/L', 'Tm', 'Opp', 'FG', 'FGA', 'FG%', '3P', '3PA', '3P%', 'FT', 'FTA', 'FT%', 'ORB', 'TRB', 'AST', 'STL', 'BLK', 'TOV', 'PF', 'FG', 'FGA', 'FG%', '3P', '3PA', '3P%', 'FT', 'FTA', 'FT%', 'ORB', 'TRB', 'AST', 'STL', 'BLK', 'TOV', 'PF', 'Day', 'Month', 'Year']\n",
            "['G', 'Home?_1', 'Opp', 'W/L', 'Tm', 'Opp', 'FG', 'FGA', 'FG%', '3P', '3PA', '3P%', 'FT', 'FTA', 'FT%', 'ORB', 'TRB', 'AST', 'STL', 'BLK', 'TOV', 'PF', 'FG', 'FGA', 'FG%', '3P', '3PA', '3P%', 'FT', 'FTA', 'FT%', 'ORB', 'TRB', 'AST', 'STL', 'BLK', 'TOV', 'PF', 'Day', 'Month', 'Year']\n",
            "['G', 'Home?_1', 'Opp', 'W/L', 'Tm', 'Opp', 'FG', 'FGA', 'FG%', '3P', '3PA', '3P%', 'FT', 'FTA', 'FT%', 'ORB', 'TRB', 'AST', 'STL', 'BLK', 'TOV', 'PF', 'FG', 'FGA', 'FG%', '3P', '3PA', '3P%', 'FT', 'FTA', 'FT%', 'ORB', 'TRB', 'AST', 'STL', 'BLK', 'TOV', 'PF', 'Day', 'Month', 'Year']\n",
            "['G', 'Home?_1', 'Opp', 'W/L', 'Tm', 'Opp', 'FG', 'FGA', 'FG%', '3P', '3PA', '3P%', 'FT', 'FTA', 'FT%', 'ORB', 'TRB', 'AST', 'STL', 'BLK', 'TOV', 'PF', 'FG', 'FGA', 'FG%', '3P', '3PA', '3P%', 'FT', 'FTA', 'FT%', 'ORB', 'TRB', 'AST', 'STL', 'BLK', 'TOV', 'PF', 'Day', 'Month', 'Year']\n",
            "['G', 'Home?_1', 'Opp', 'W/L', 'Tm', 'Opp', 'FG', 'FGA', 'FG%', '3P', '3PA', '3P%', 'FT', 'FTA', 'FT%', 'ORB', 'TRB', 'AST', 'STL', 'BLK', 'TOV', 'PF', 'FG', 'FGA', 'FG%', '3P', '3PA', '3P%', 'FT', 'FTA', 'FT%', 'ORB', 'TRB', 'AST', 'STL', 'BLK', 'TOV', 'PF', 'Day', 'Month', 'Year']\n"
          ],
          "name": "stdout"
        }
      ]
    },
    {
      "cell_type": "markdown",
      "metadata": {
        "id": "L3TcjSrRJqiJ",
        "colab_type": "text"
      },
      "source": [
        "#Random Forest Regressor"
      ]
    },
    {
      "cell_type": "code",
      "metadata": {
        "id": "NT0yyTBQXj3k",
        "colab_type": "code",
        "colab": {}
      },
      "source": [
        "import numpy as np\n",
        "import pandas as pd\n",
        "from sklearn.model_selection import train_test_split\n",
        "from sklearn.ensemble import RandomForestRegressor\n",
        "from sklearn.metrics import r2_score,mean_squared_error\n",
        "from matplotlib import pyplot\n",
        "\n",
        "def regressor_test_input(games = 10, teams = teams, years = [2015,2016,2017,2018,2019]):\n",
        "\tteam_rows = []\n",
        "\tfor team in teams:\n",
        "\t\tfor tm in teamdict.keys():\n",
        "\t\t\tif tm == team:\n",
        "\t\t\t\tteam_num = teamdict[tm]\n",
        "\t\tprint('Generating ', team, '(', team_num,') Random Forest Input')\n",
        "\t\tteam1 = pd.read_csv('/content/{team}_{years}_log.csv'.format(team = team, years=str(years)))\n",
        "\t\n",
        "\t\tfor x in range(team1.shape[0]-1, games, -1):\n",
        "\t\t\tteam_row = [] \n",
        "\t\t\t#start with important columns\n",
        "\t\t\tteam_row.append(team1.iloc[x,4]) #points\n",
        "\t\t\tteam_row.append(team_num) #team_id\n",
        "\t\t\tteam_row.append(team1.iloc[x,1]) #home or away\n",
        "\t\t\tteam_row.append(team1.iloc[x,2]) #opponent id\n",
        "\t\t\t#append recent game data to the row\n",
        "\t\t\tteam_row_temp = team1.iloc[(x-games):(x),:] \n",
        "\t\t\tfor i in range(0,games,1):\n",
        "\t\t\t\tfor j in range(0,team1.shape[1],1):\n",
        "\t\t\t\t\tteam_row.append(team_row_temp.iloc[i,j])\n",
        "\t\t\t#add row to master list\n",
        "\t\t\tteam_rows.append(team_row)\n",
        "\t#turn the list to an array\n",
        "\tteam_np = np.array(team_rows)\n",
        "\treturn team_np"
      ],
      "execution_count": 0,
      "outputs": []
    },
    {
      "cell_type": "code",
      "metadata": {
        "id": "mRn_Oeu6Qsqe",
        "colab_type": "code",
        "outputId": "2ee6d4a7-283b-4043-c117-90b6029415c8",
        "colab": {
          "base_uri": "https://localhost:8080/",
          "height": 632
        }
      },
      "source": [
        "#Game Logs\n",
        "years = [2015,2016,2017,2018,2019]\n",
        "get_logs(years)"
      ],
      "execution_count": 0,
      "outputs": [
        {
          "output_type": "stream",
          "text": [
            "/usr/local/lib/python3.6/dist-packages/pandas/core/generic.py:6746: SettingWithCopyWarning: \n",
            "A value is trying to be set on a copy of a slice from a DataFrame\n",
            "\n",
            "See the caveats in the documentation: https://pandas.pydata.org/pandas-docs/stable/user_guide/indexing.html#returning-a-view-versus-a-copy\n",
            "  self._update_inplace(new_data)\n"
          ],
          "name": "stderr"
        },
        {
          "output_type": "stream",
          "text": [
            "['G', 'Home?_1', 'Opp', 'W/L', 'Tm', 'Opp', 'FG', 'FGA', 'FG%', '3P', '3PA', '3P%', 'FT', 'FTA', 'FT%', 'ORB', 'TRB', 'AST', 'STL', 'BLK', 'TOV', 'PF', 'FG', 'FGA', 'FG%', '3P', '3PA', '3P%', 'FT', 'FTA', 'FT%', 'ORB', 'TRB', 'AST', 'STL', 'BLK', 'TOV', 'PF', 'Day', 'Month', 'Year']\n",
            "['G', 'Home?_1', 'Opp', 'W/L', 'Tm', 'Opp', 'FG', 'FGA', 'FG%', '3P', '3PA', '3P%', 'FT', 'FTA', 'FT%', 'ORB', 'TRB', 'AST', 'STL', 'BLK', 'TOV', 'PF', 'FG', 'FGA', 'FG%', '3P', '3PA', '3P%', 'FT', 'FTA', 'FT%', 'ORB', 'TRB', 'AST', 'STL', 'BLK', 'TOV', 'PF', 'Day', 'Month', 'Year']\n",
            "['G', 'Home?_1', 'Opp', 'W/L', 'Tm', 'Opp', 'FG', 'FGA', 'FG%', '3P', '3PA', '3P%', 'FT', 'FTA', 'FT%', 'ORB', 'TRB', 'AST', 'STL', 'BLK', 'TOV', 'PF', 'FG', 'FGA', 'FG%', '3P', '3PA', '3P%', 'FT', 'FTA', 'FT%', 'ORB', 'TRB', 'AST', 'STL', 'BLK', 'TOV', 'PF', 'Day', 'Month', 'Year']\n",
            "['G', 'Home?_1', 'Opp', 'W/L', 'Tm', 'Opp', 'FG', 'FGA', 'FG%', '3P', '3PA', '3P%', 'FT', 'FTA', 'FT%', 'ORB', 'TRB', 'AST', 'STL', 'BLK', 'TOV', 'PF', 'FG', 'FGA', 'FG%', '3P', '3PA', '3P%', 'FT', 'FTA', 'FT%', 'ORB', 'TRB', 'AST', 'STL', 'BLK', 'TOV', 'PF', 'Day', 'Month', 'Year']\n",
            "['G', 'Home?_1', 'Opp', 'W/L', 'Tm', 'Opp', 'FG', 'FGA', 'FG%', '3P', '3PA', '3P%', 'FT', 'FTA', 'FT%', 'ORB', 'TRB', 'AST', 'STL', 'BLK', 'TOV', 'PF', 'FG', 'FGA', 'FG%', '3P', '3PA', '3P%', 'FT', 'FTA', 'FT%', 'ORB', 'TRB', 'AST', 'STL', 'BLK', 'TOV', 'PF', 'Day', 'Month', 'Year']\n",
            "['G', 'Home?_1', 'Opp', 'W/L', 'Tm', 'Opp', 'FG', 'FGA', 'FG%', '3P', '3PA', '3P%', 'FT', 'FTA', 'FT%', 'ORB', 'TRB', 'AST', 'STL', 'BLK', 'TOV', 'PF', 'FG', 'FGA', 'FG%', '3P', '3PA', '3P%', 'FT', 'FTA', 'FT%', 'ORB', 'TRB', 'AST', 'STL', 'BLK', 'TOV', 'PF', 'Day', 'Month', 'Year']\n",
            "['G', 'Home?_1', 'Opp', 'W/L', 'Tm', 'Opp', 'FG', 'FGA', 'FG%', '3P', '3PA', '3P%', 'FT', 'FTA', 'FT%', 'ORB', 'TRB', 'AST', 'STL', 'BLK', 'TOV', 'PF', 'FG', 'FGA', 'FG%', '3P', '3PA', '3P%', 'FT', 'FTA', 'FT%', 'ORB', 'TRB', 'AST', 'STL', 'BLK', 'TOV', 'PF', 'Day', 'Month', 'Year']\n",
            "['G', 'Home?_1', 'Opp', 'W/L', 'Tm', 'Opp', 'FG', 'FGA', 'FG%', '3P', '3PA', '3P%', 'FT', 'FTA', 'FT%', 'ORB', 'TRB', 'AST', 'STL', 'BLK', 'TOV', 'PF', 'FG', 'FGA', 'FG%', '3P', '3PA', '3P%', 'FT', 'FTA', 'FT%', 'ORB', 'TRB', 'AST', 'STL', 'BLK', 'TOV', 'PF', 'Day', 'Month', 'Year']\n",
            "['G', 'Home?_1', 'Opp', 'W/L', 'Tm', 'Opp', 'FG', 'FGA', 'FG%', '3P', '3PA', '3P%', 'FT', 'FTA', 'FT%', 'ORB', 'TRB', 'AST', 'STL', 'BLK', 'TOV', 'PF', 'FG', 'FGA', 'FG%', '3P', '3PA', '3P%', 'FT', 'FTA', 'FT%', 'ORB', 'TRB', 'AST', 'STL', 'BLK', 'TOV', 'PF', 'Day', 'Month', 'Year']\n",
            "['G', 'Home?_1', 'Opp', 'W/L', 'Tm', 'Opp', 'FG', 'FGA', 'FG%', '3P', '3PA', '3P%', 'FT', 'FTA', 'FT%', 'ORB', 'TRB', 'AST', 'STL', 'BLK', 'TOV', 'PF', 'FG', 'FGA', 'FG%', '3P', '3PA', '3P%', 'FT', 'FTA', 'FT%', 'ORB', 'TRB', 'AST', 'STL', 'BLK', 'TOV', 'PF', 'Day', 'Month', 'Year']\n",
            "['G', 'Home?_1', 'Opp', 'W/L', 'Tm', 'Opp', 'FG', 'FGA', 'FG%', '3P', '3PA', '3P%', 'FT', 'FTA', 'FT%', 'ORB', 'TRB', 'AST', 'STL', 'BLK', 'TOV', 'PF', 'FG', 'FGA', 'FG%', '3P', '3PA', '3P%', 'FT', 'FTA', 'FT%', 'ORB', 'TRB', 'AST', 'STL', 'BLK', 'TOV', 'PF', 'Day', 'Month', 'Year']\n",
            "['G', 'Home?_1', 'Opp', 'W/L', 'Tm', 'Opp', 'FG', 'FGA', 'FG%', '3P', '3PA', '3P%', 'FT', 'FTA', 'FT%', 'ORB', 'TRB', 'AST', 'STL', 'BLK', 'TOV', 'PF', 'FG', 'FGA', 'FG%', '3P', '3PA', '3P%', 'FT', 'FTA', 'FT%', 'ORB', 'TRB', 'AST', 'STL', 'BLK', 'TOV', 'PF', 'Day', 'Month', 'Year']\n",
            "['G', 'Home?_1', 'Opp', 'W/L', 'Tm', 'Opp', 'FG', 'FGA', 'FG%', '3P', '3PA', '3P%', 'FT', 'FTA', 'FT%', 'ORB', 'TRB', 'AST', 'STL', 'BLK', 'TOV', 'PF', 'FG', 'FGA', 'FG%', '3P', '3PA', '3P%', 'FT', 'FTA', 'FT%', 'ORB', 'TRB', 'AST', 'STL', 'BLK', 'TOV', 'PF', 'Day', 'Month', 'Year']\n",
            "['G', 'Home?_1', 'Opp', 'W/L', 'Tm', 'Opp', 'FG', 'FGA', 'FG%', '3P', '3PA', '3P%', 'FT', 'FTA', 'FT%', 'ORB', 'TRB', 'AST', 'STL', 'BLK', 'TOV', 'PF', 'FG', 'FGA', 'FG%', '3P', '3PA', '3P%', 'FT', 'FTA', 'FT%', 'ORB', 'TRB', 'AST', 'STL', 'BLK', 'TOV', 'PF', 'Day', 'Month', 'Year']\n",
            "['G', 'Home?_1', 'Opp', 'W/L', 'Tm', 'Opp', 'FG', 'FGA', 'FG%', '3P', '3PA', '3P%', 'FT', 'FTA', 'FT%', 'ORB', 'TRB', 'AST', 'STL', 'BLK', 'TOV', 'PF', 'FG', 'FGA', 'FG%', '3P', '3PA', '3P%', 'FT', 'FTA', 'FT%', 'ORB', 'TRB', 'AST', 'STL', 'BLK', 'TOV', 'PF', 'Day', 'Month', 'Year']\n",
            "['G', 'Home?_1', 'Opp', 'W/L', 'Tm', 'Opp', 'FG', 'FGA', 'FG%', '3P', '3PA', '3P%', 'FT', 'FTA', 'FT%', 'ORB', 'TRB', 'AST', 'STL', 'BLK', 'TOV', 'PF', 'FG', 'FGA', 'FG%', '3P', '3PA', '3P%', 'FT', 'FTA', 'FT%', 'ORB', 'TRB', 'AST', 'STL', 'BLK', 'TOV', 'PF', 'Day', 'Month', 'Year']\n",
            "['G', 'Home?_1', 'Opp', 'W/L', 'Tm', 'Opp', 'FG', 'FGA', 'FG%', '3P', '3PA', '3P%', 'FT', 'FTA', 'FT%', 'ORB', 'TRB', 'AST', 'STL', 'BLK', 'TOV', 'PF', 'FG', 'FGA', 'FG%', '3P', '3PA', '3P%', 'FT', 'FTA', 'FT%', 'ORB', 'TRB', 'AST', 'STL', 'BLK', 'TOV', 'PF', 'Day', 'Month', 'Year']\n",
            "['G', 'Home?_1', 'Opp', 'W/L', 'Tm', 'Opp', 'FG', 'FGA', 'FG%', '3P', '3PA', '3P%', 'FT', 'FTA', 'FT%', 'ORB', 'TRB', 'AST', 'STL', 'BLK', 'TOV', 'PF', 'FG', 'FGA', 'FG%', '3P', '3PA', '3P%', 'FT', 'FTA', 'FT%', 'ORB', 'TRB', 'AST', 'STL', 'BLK', 'TOV', 'PF', 'Day', 'Month', 'Year']\n",
            "['G', 'Home?_1', 'Opp', 'W/L', 'Tm', 'Opp', 'FG', 'FGA', 'FG%', '3P', '3PA', '3P%', 'FT', 'FTA', 'FT%', 'ORB', 'TRB', 'AST', 'STL', 'BLK', 'TOV', 'PF', 'FG', 'FGA', 'FG%', '3P', '3PA', '3P%', 'FT', 'FTA', 'FT%', 'ORB', 'TRB', 'AST', 'STL', 'BLK', 'TOV', 'PF', 'Day', 'Month', 'Year']\n",
            "['G', 'Home?_1', 'Opp', 'W/L', 'Tm', 'Opp', 'FG', 'FGA', 'FG%', '3P', '3PA', '3P%', 'FT', 'FTA', 'FT%', 'ORB', 'TRB', 'AST', 'STL', 'BLK', 'TOV', 'PF', 'FG', 'FGA', 'FG%', '3P', '3PA', '3P%', 'FT', 'FTA', 'FT%', 'ORB', 'TRB', 'AST', 'STL', 'BLK', 'TOV', 'PF', 'Day', 'Month', 'Year']\n",
            "['G', 'Home?_1', 'Opp', 'W/L', 'Tm', 'Opp', 'FG', 'FGA', 'FG%', '3P', '3PA', '3P%', 'FT', 'FTA', 'FT%', 'ORB', 'TRB', 'AST', 'STL', 'BLK', 'TOV', 'PF', 'FG', 'FGA', 'FG%', '3P', '3PA', '3P%', 'FT', 'FTA', 'FT%', 'ORB', 'TRB', 'AST', 'STL', 'BLK', 'TOV', 'PF', 'Day', 'Month', 'Year']\n",
            "['G', 'Home?_1', 'Opp', 'W/L', 'Tm', 'Opp', 'FG', 'FGA', 'FG%', '3P', '3PA', '3P%', 'FT', 'FTA', 'FT%', 'ORB', 'TRB', 'AST', 'STL', 'BLK', 'TOV', 'PF', 'FG', 'FGA', 'FG%', '3P', '3PA', '3P%', 'FT', 'FTA', 'FT%', 'ORB', 'TRB', 'AST', 'STL', 'BLK', 'TOV', 'PF', 'Day', 'Month', 'Year']\n",
            "['G', 'Home?_1', 'Opp', 'W/L', 'Tm', 'Opp', 'FG', 'FGA', 'FG%', '3P', '3PA', '3P%', 'FT', 'FTA', 'FT%', 'ORB', 'TRB', 'AST', 'STL', 'BLK', 'TOV', 'PF', 'FG', 'FGA', 'FG%', '3P', '3PA', '3P%', 'FT', 'FTA', 'FT%', 'ORB', 'TRB', 'AST', 'STL', 'BLK', 'TOV', 'PF', 'Day', 'Month', 'Year']\n",
            "['G', 'Home?_1', 'Opp', 'W/L', 'Tm', 'Opp', 'FG', 'FGA', 'FG%', '3P', '3PA', '3P%', 'FT', 'FTA', 'FT%', 'ORB', 'TRB', 'AST', 'STL', 'BLK', 'TOV', 'PF', 'FG', 'FGA', 'FG%', '3P', '3PA', '3P%', 'FT', 'FTA', 'FT%', 'ORB', 'TRB', 'AST', 'STL', 'BLK', 'TOV', 'PF', 'Day', 'Month', 'Year']\n",
            "['G', 'Home?_1', 'Opp', 'W/L', 'Tm', 'Opp', 'FG', 'FGA', 'FG%', '3P', '3PA', '3P%', 'FT', 'FTA', 'FT%', 'ORB', 'TRB', 'AST', 'STL', 'BLK', 'TOV', 'PF', 'FG', 'FGA', 'FG%', '3P', '3PA', '3P%', 'FT', 'FTA', 'FT%', 'ORB', 'TRB', 'AST', 'STL', 'BLK', 'TOV', 'PF', 'Day', 'Month', 'Year']\n",
            "['G', 'Home?_1', 'Opp', 'W/L', 'Tm', 'Opp', 'FG', 'FGA', 'FG%', '3P', '3PA', '3P%', 'FT', 'FTA', 'FT%', 'ORB', 'TRB', 'AST', 'STL', 'BLK', 'TOV', 'PF', 'FG', 'FGA', 'FG%', '3P', '3PA', '3P%', 'FT', 'FTA', 'FT%', 'ORB', 'TRB', 'AST', 'STL', 'BLK', 'TOV', 'PF', 'Day', 'Month', 'Year']\n",
            "['G', 'Home?_1', 'Opp', 'W/L', 'Tm', 'Opp', 'FG', 'FGA', 'FG%', '3P', '3PA', '3P%', 'FT', 'FTA', 'FT%', 'ORB', 'TRB', 'AST', 'STL', 'BLK', 'TOV', 'PF', 'FG', 'FGA', 'FG%', '3P', '3PA', '3P%', 'FT', 'FTA', 'FT%', 'ORB', 'TRB', 'AST', 'STL', 'BLK', 'TOV', 'PF', 'Day', 'Month', 'Year']\n",
            "['G', 'Home?_1', 'Opp', 'W/L', 'Tm', 'Opp', 'FG', 'FGA', 'FG%', '3P', '3PA', '3P%', 'FT', 'FTA', 'FT%', 'ORB', 'TRB', 'AST', 'STL', 'BLK', 'TOV', 'PF', 'FG', 'FGA', 'FG%', '3P', '3PA', '3P%', 'FT', 'FTA', 'FT%', 'ORB', 'TRB', 'AST', 'STL', 'BLK', 'TOV', 'PF', 'Day', 'Month', 'Year']\n",
            "['G', 'Home?_1', 'Opp', 'W/L', 'Tm', 'Opp', 'FG', 'FGA', 'FG%', '3P', '3PA', '3P%', 'FT', 'FTA', 'FT%', 'ORB', 'TRB', 'AST', 'STL', 'BLK', 'TOV', 'PF', 'FG', 'FGA', 'FG%', '3P', '3PA', '3P%', 'FT', 'FTA', 'FT%', 'ORB', 'TRB', 'AST', 'STL', 'BLK', 'TOV', 'PF', 'Day', 'Month', 'Year']\n",
            "['G', 'Home?_1', 'Opp', 'W/L', 'Tm', 'Opp', 'FG', 'FGA', 'FG%', '3P', '3PA', '3P%', 'FT', 'FTA', 'FT%', 'ORB', 'TRB', 'AST', 'STL', 'BLK', 'TOV', 'PF', 'FG', 'FGA', 'FG%', '3P', '3PA', '3P%', 'FT', 'FTA', 'FT%', 'ORB', 'TRB', 'AST', 'STL', 'BLK', 'TOV', 'PF', 'Day', 'Month', 'Year']\n"
          ],
          "name": "stdout"
        }
      ]
    },
    {
      "cell_type": "code",
      "metadata": {
        "id": "LYOYEfnlgFrs",
        "colab_type": "code",
        "outputId": "779e40d6-3caa-4d45-943d-390232b1aba4",
        "colab": {
          "base_uri": "https://localhost:8080/",
          "height": 538
        }
      },
      "source": [
        "\n",
        "#regressor_test_input_test\n",
        "teams_np = regressor_test_input(years=years, games = 30)\n",
        "print(teams_np.shape)"
      ],
      "execution_count": 0,
      "outputs": [
        {
          "output_type": "stream",
          "text": [
            "Generating  ATL ( 1001 ) Random Forest Input\n",
            "Generating  BRK ( 1002 ) Random Forest Input\n",
            "Generating  BOS ( 1003 ) Random Forest Input\n",
            "Generating  CHO ( 1004 ) Random Forest Input\n",
            "Generating  CHI ( 1005 ) Random Forest Input\n",
            "Generating  CLE ( 1006 ) Random Forest Input\n",
            "Generating  DAL ( 1007 ) Random Forest Input\n",
            "Generating  DEN ( 1008 ) Random Forest Input\n",
            "Generating  DET ( 1009 ) Random Forest Input\n",
            "Generating  GSW ( 1010 ) Random Forest Input\n",
            "Generating  HOU ( 1011 ) Random Forest Input\n",
            "Generating  IND ( 1012 ) Random Forest Input\n",
            "Generating  LAC ( 1013 ) Random Forest Input\n",
            "Generating  LAL ( 1014 ) Random Forest Input\n",
            "Generating  MEM ( 1015 ) Random Forest Input\n",
            "Generating  MIA ( 1016 ) Random Forest Input\n",
            "Generating  MIL ( 1017 ) Random Forest Input\n",
            "Generating  MIN ( 1018 ) Random Forest Input\n",
            "Generating  NOP ( 1019 ) Random Forest Input\n",
            "Generating  NYK ( 1020 ) Random Forest Input\n",
            "Generating  OKC ( 1021 ) Random Forest Input\n",
            "Generating  ORL ( 1022 ) Random Forest Input\n",
            "Generating  PHI ( 1023 ) Random Forest Input\n",
            "Generating  PHO ( 1024 ) Random Forest Input\n",
            "Generating  POR ( 1025 ) Random Forest Input\n",
            "Generating  SAC ( 1026 ) Random Forest Input\n",
            "Generating  SAS ( 1027 ) Random Forest Input\n",
            "Generating  TOR ( 1028 ) Random Forest Input\n",
            "Generating  UTA ( 1029 ) Random Forest Input\n",
            "Generating  WAS ( 1030 ) Random Forest Input\n",
            "(11370, 1234)\n"
          ],
          "name": "stdout"
        }
      ]
    },
    {
      "cell_type": "code",
      "metadata": {
        "id": "m8OgIyWOQBxk",
        "colab_type": "code",
        "colab": {}
      },
      "source": [
        ""
      ],
      "execution_count": 0,
      "outputs": []
    },
    {
      "cell_type": "code",
      "metadata": {
        "id": "1of85KEabvaE",
        "colab_type": "code",
        "outputId": "728a5feb-3748-4ae9-d3b7-c5159f0f8165",
        "colab": {
          "base_uri": "https://localhost:8080/",
          "height": 87
        }
      },
      "source": [
        "train_x = teams_np[:, 1:]\n",
        "\n",
        "train_y = teams_np[:, 0]\n",
        "\n",
        "print(train_x.shape)\n",
        "x_train, x_test, y_train, y_test = train_test_split(train_x, train_y, test_size=0.30)\n",
        "\n",
        "rf = RandomForestRegressor()\n",
        "rf.fit(x_train, y_train)\n",
        "\n",
        "y_pred = rf.predict(x_test)\n",
        "mse = mean_squared_error(y_test, y_pred)\n",
        "rmse = np.sqrt(mse)\n",
        "print(rmse)\n",
        "\n",
        "\n",
        "\n",
        "'''\n",
        "importance = rf.feature_importances_\n",
        "\n",
        "# summarize feature importance\n",
        "for i,v in enumerate(importance):\n",
        "\tprint('Feature: %0d, Score: %.5f' % (i,v))\n",
        "# plot feature importance\n",
        "pyplot.bar([x for x in range(len(importance))], importance)\n",
        "pyplot.show()\n",
        "'''"
      ],
      "execution_count": 0,
      "outputs": [
        {
          "output_type": "stream",
          "text": [
            "(11370, 1233)\n",
            "11.71103226795156\n"
          ],
          "name": "stdout"
        },
        {
          "output_type": "execute_result",
          "data": {
            "text/plain": [
              "\"\\nimportance = rf.feature_importances_\\n\\n# summarize feature importance\\nfor i,v in enumerate(importance):\\n\\tprint('Feature: %0d, Score: %.5f' % (i,v))\\n# plot feature importance\\npyplot.bar([x for x in range(len(importance))], importance)\\npyplot.show()\\n\""
            ]
          },
          "metadata": {
            "tags": []
          },
          "execution_count": 110
        }
      ]
    },
    {
      "cell_type": "code",
      "metadata": {
        "id": "_R9e7EtdV9aB",
        "colab_type": "code",
        "colab": {}
      },
      "source": [
        "def regressor_test_output(teams_in, games = 10):\n",
        "    team_rows = []\n",
        "    for team in teams_in:\n",
        "        for tm in teamdict.keys():\n",
        "            if tm == team:\n",
        "                team_num = teamdict[tm]\n",
        "        print('Generating ', team, '(', team_num,') Random Forest Input')\n",
        "        team1 = pd.read_csv('/content/{team}_log.csv'.format(team = team))\n",
        "        \n",
        "        x = team1.shape[0]-1\n",
        "        team_row = [] \n",
        "        #start with important columns\n",
        "        team_row.append(team1.iloc[x,4]) #points\n",
        "        team_row.append(team_num) #team_id\n",
        "        team_row.append(team1.iloc[x,1]) #home or away\n",
        "        team_row.append(team1.iloc[x,2]) #opponent id\n",
        "        #append recent game data to the row\n",
        "        team_row_temp = team1.iloc[(x-games):(x),:] \n",
        "        for i in range(0,games,1):\n",
        "            for j in range(0,team1.shape[1],1):\n",
        "                team_row.append(team_row_temp.iloc[i,j])\n",
        "        \n",
        "        #add row to master list\n",
        "        team_rows.append(team_row)\n",
        "        #turn the list to an array\n",
        "        team_np = np.array(team_rows)\n",
        "        team_x = team_np[:, 1:]\n",
        "        team_y = team_np[:, 0]\n",
        "        team_pred = rf.predict(team_x)\n",
        "        print('Team: ', team, 'Score: ', team_pred)\n",
        "        team_pred = []\n",
        "    return team_pred"
      ],
      "execution_count": 0,
      "outputs": []
    },
    {
      "cell_type": "markdown",
      "metadata": {
        "id": "0G9kTo7ooean",
        "colab_type": "text"
      },
      "source": [
        "# Game Simulator"
      ]
    },
    {
      "cell_type": "code",
      "metadata": {
        "id": "_x95hDeJR754",
        "colab_type": "code",
        "outputId": "8dadbb41-c81c-4400-807c-30ccc5fdaa5a",
        "colab": {
          "base_uri": "https://localhost:8080/",
          "height": 101
        }
      },
      "source": [
        "regressor_test_output(teams_in=['HOU','MIL'], games = 30)"
      ],
      "execution_count": 0,
      "outputs": [
        {
          "output_type": "stream",
          "text": [
            "Generating  HOU ( 1011 ) Random Forest Input\n",
            "Team:  HOU Score:  [115.22]\n",
            "Generating  MIL ( 1017 ) Random Forest Input\n",
            "Team:  MIL Score:  [115.22 115.71]\n"
          ],
          "name": "stdout"
        },
        {
          "output_type": "execute_result",
          "data": {
            "text/plain": [
              "[]"
            ]
          },
          "metadata": {
            "tags": []
          },
          "execution_count": 139
        }
      ]
    }
  ]
}